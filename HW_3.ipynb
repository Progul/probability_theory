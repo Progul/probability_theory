{
 "cells": [
  {
   "cell_type": "markdown",
   "id": "e29e6fc2",
   "metadata": {},
   "source": [
    "Задание 1"
   ]
  },
  {
   "cell_type": "markdown",
   "id": "fd258659",
   "metadata": {},
   "source": [
    "Даны значения зарплат из выборки выпускников: 100, 80, 75, 77, 89, 33, 45, 25, 65, 17, 30, 24, 57, 55, 70, 75, 65, 84, 90, 150. Посчитать (желательно без использования статистических методов наподобие std, var, mean) среднее арифметическое, среднее квадратичное отклонение, смещенную и несмещенную оценки дисперсий для данной выборки."
   ]
  },
  {
   "cell_type": "code",
   "execution_count": 1,
   "id": "8c3db450",
   "metadata": {},
   "outputs": [],
   "source": [
    "import numpy as np\n",
    "from math import factorial"
   ]
  },
  {
   "cell_type": "code",
   "execution_count": 2,
   "id": "e6ebd532",
   "metadata": {},
   "outputs": [
    {
     "data": {
      "text/plain": [
       "array([100,  80,  75,  77,  89,  33,  45,  25,  65,  17,  30,  24,  57,\n",
       "        55,  70,  75,  65,  84,  90, 150])"
      ]
     },
     "execution_count": 2,
     "metadata": {},
     "output_type": "execute_result"
    }
   ],
   "source": [
    "arr=np.array([100, 80, 75, 77, 89, 33, 45, 25, 65, 17, 30, 24, 57, 55, 70, 75, 65, 84, 90, 150])\n",
    "arr"
   ]
  },
  {
   "cell_type": "markdown",
   "id": "d07f9324",
   "metadata": {},
   "source": [
    "a) Расчитаем среднее арифметическое:"
   ]
  },
  {
   "cell_type": "code",
   "execution_count": 3,
   "id": "4a29ee97",
   "metadata": {},
   "outputs": [
    {
     "data": {
      "text/plain": [
       "65.3"
      ]
     },
     "execution_count": 3,
     "metadata": {},
     "output_type": "execute_result"
    }
   ],
   "source": [
    "np.mean(arr)"
   ]
  },
  {
   "cell_type": "markdown",
   "id": "c261d1b6",
   "metadata": {},
   "source": [
    "б)Расчитаем среднее квадратичное отклонение выборки "
   ]
  },
  {
   "cell_type": "code",
   "execution_count": 6,
   "id": "45df615e",
   "metadata": {},
   "outputs": [],
   "source": [
    "value_std = np.std(arr)"
   ]
  },
  {
   "cell_type": "code",
   "execution_count": 7,
   "id": "1acc0d11",
   "metadata": {},
   "outputs": [
    {
     "name": "stdout",
     "output_type": "stream",
     "text": [
      "30.824\n"
     ]
    }
   ],
   "source": [
    "value_std_round = round(value_std, 3)\n",
    "print(value_std_round)"
   ]
  },
  {
   "cell_type": "markdown",
   "id": "0e732165",
   "metadata": {},
   "source": [
    "в)Расчитаем смещенную оценку дисперсии:"
   ]
  },
  {
   "cell_type": "code",
   "execution_count": 10,
   "id": "345fedf9",
   "metadata": {},
   "outputs": [
    {
     "data": {
      "text/plain": [
       "950.11"
      ]
     },
     "execution_count": 10,
     "metadata": {},
     "output_type": "execute_result"
    }
   ],
   "source": [
    "np.var(arr)"
   ]
  },
  {
   "cell_type": "markdown",
   "id": "6817ea75",
   "metadata": {},
   "source": [
    "Неcмещенная оценка дисперсии"
   ]
  },
  {
   "cell_type": "code",
   "execution_count": 12,
   "id": "30095145",
   "metadata": {},
   "outputs": [],
   "source": [
    "value_var = np.var(arr, ddof=1)"
   ]
  },
  {
   "cell_type": "code",
   "execution_count": 13,
   "id": "564e867d",
   "metadata": {},
   "outputs": [
    {
     "name": "stdout",
     "output_type": "stream",
     "text": [
      "1000.116\n"
     ]
    }
   ],
   "source": [
    "print(round(value_var,3))"
   ]
  }
 ],
 "metadata": {
  "kernelspec": {
   "display_name": "Python 3 (ipykernel)",
   "language": "python",
   "name": "python3"
  },
  "language_info": {
   "codemirror_mode": {
    "name": "ipython",
    "version": 3
   },
   "file_extension": ".py",
   "mimetype": "text/x-python",
   "name": "python",
   "nbconvert_exporter": "python",
   "pygments_lexer": "ipython3",
   "version": "3.10.4"
  }
 },
 "nbformat": 4,
 "nbformat_minor": 5
}
