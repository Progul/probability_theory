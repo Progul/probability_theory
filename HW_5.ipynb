{
 "cells": [
  {
   "cell_type": "markdown",
   "id": "9280326e",
   "metadata": {},
   "source": [
    "### Задание 1\n"
   ]
  },
  {
   "cell_type": "markdown",
   "id": "41d92446",
   "metadata": {},
   "source": [
    "Поскольку нам известно среднее квадратическое отклонение генеральной совокупности <math xmlns=\"http://www.w3.org/1998/Math/MathML\">\n",
    "  <mi>&#x3C3;</mi>\n",
    "  <mo>=</mo>\n",
    "  <mn>16</mn>\n",
    "</math>, то для расчета <math xmlns=\"http://www.w3.org/1998/Math/MathML\">\n",
    "  <mn>95</mn>\n",
    "  <mi mathvariant=\"normal\">%</mi>\n",
    "</math>-го доверительного интервала, будем использовать <math xmlns=\"http://www.w3.org/1998/Math/MathML\">\n",
    "  <mi>Z</mi>\n",
    "</math>-критерий. И границы доверительного интервала расчитаем по формуле:"
   ]
  },
  {
   "attachments": {},
   "cell_type": "markdown",
   "id": "b07fd54c",
   "metadata": {},
   "source": [
    "$\\displaystyle\\bar X\\pm z_{\\alpha/2}\\cdot\\frac{\\sigma}{\\sqrt n}$, где"
   ]
  },
  {
   "cell_type": "markdown",
   "id": "c9082259",
   "metadata": {},
   "source": [
    "$\\bar X=M=80$- среднее значение выборки"
   ]
  },
  {
   "cell_type": "markdown",
   "id": "bcd2e3ed",
   "metadata": {},
   "source": [
    "$z_{\\alpha/2}$ - табличное значение z-критерия, и для 95%-го доверительного интервала $z_{\\alpha/2}=1,96$"
   ]
  },
  {
   "cell_type": "markdown",
   "id": "37b30a39",
   "metadata": {},
   "source": [
    "$\\sigma=16$ - среднее квадратическое отклонение генеральной совокупности"
   ]
  },
  {
   "cell_type": "markdown",
   "id": "2227b8fb",
   "metadata": {},
   "source": [
    "$n=256$ - объем выборки"
   ]
  },
  {
   "cell_type": "markdown",
   "id": "4f0e2ba9",
   "metadata": {},
   "source": [
    "Таким образом 95%-й доверительный интервал расчитаем как: $\\left[80-1.96\\cdot\\frac{16}{\\sqrt 256};80+1.96\\cdot\\frac{16}{\\sqrt 256}\\right]$"
   ]
  },
  {
   "cell_type": "code",
   "execution_count": 2,
   "id": "8ff50ced",
   "metadata": {},
   "outputs": [],
   "source": [
    "left=80-1.96*16/256**(1/2)\n",
    "right=80+1.96*16/256**(1/2)"
   ]
  },
  {
   "cell_type": "code",
   "execution_count": 3,
   "id": "de0dc9b7",
   "metadata": {},
   "outputs": [
    {
     "name": "stdout",
     "output_type": "stream",
     "text": [
      "Наш интервал: [78.04;81.96]\n"
     ]
    }
   ],
   "source": [
    "print(f'Наш интервал: [{left};{right}]')"
   ]
  },
  {
   "cell_type": "markdown",
   "id": "f6c1eb02",
   "metadata": {},
   "source": [
    "### Задание 2"
   ]
  },
  {
   "cell_type": "markdown",
   "id": "afd555bb",
   "metadata": {},
   "source": [
    "Поскольку из условия задачи нам ничего не известно ни о мат. ожидании генеральной совокупности ни о среднем квадратическом отклонении для генеральной совокупности, то для расчета 95%-го доверительного интервала будем использовать t-критерий, и формулу:"
   ]
  },
  {
   "attachments": {},
   "cell_type": "markdown",
   "id": "c2fc21b9",
   "metadata": {},
   "source": [
    "$\\displaystyle\\bar X\\pm t_{\\alpha/2}\\cdot\\frac{\\sigma_{несмещ}}{\\sqrt{n}}$, где"
   ]
  },
  {
   "cell_type": "markdown",
   "id": "4d42965a",
   "metadata": {},
   "source": [
    "$\\sigma_{несмещ}$ - несмещённое среднее квадратическое отклонение выборки,\n",
    "$n$ - размер выборки"
   ]
  },
  {
   "cell_type": "code",
   "execution_count": 5,
   "id": "5c46a1c9",
   "metadata": {},
   "outputs": [],
   "source": [
    "import numpy as np"
   ]
  },
  {
   "cell_type": "code",
   "execution_count": 6,
   "id": "7f947686",
   "metadata": {},
   "outputs": [],
   "source": [
    "arr=np.array([6.9, 6.1, 6.2, 6.8, 7.5, 6.3, 6.4, 6.9, 6.7, 6.1])"
   ]
  },
  {
   "cell_type": "code",
   "execution_count": 7,
   "id": "0d4d7477",
   "metadata": {},
   "outputs": [
    {
     "name": "stdout",
     "output_type": "stream",
     "text": [
      "Среднее выборочное:  6.59,\n",
      "Размер выборки n=10,\n",
      "Среднее квадратическое отклонение по выборке(несмещенное):  0.45.\n"
     ]
    }
   ],
   "source": [
    "print(f'Среднее выборочное: {np.mean(arr): .2f},\\n'\n",
    "      f'Размер выборки n={len(arr)},\\n'\n",
    "      f'Среднее квадратическое отклонение по выборке(несмещенное): {np.std(arr, ddof=1): .2f}.'\n",
    "     )"
   ]
  },
  {
   "cell_type": "markdown",
   "id": "9aed94a0",
   "metadata": {},
   "source": [
    "t - критерий:"
   ]
  },
  {
   "cell_type": "code",
   "execution_count": 9,
   "id": "2a0e7304",
   "metadata": {},
   "outputs": [],
   "source": [
    "import scipy.stats as stats"
   ]
  },
  {
   "cell_type": "code",
   "execution_count": 10,
   "id": "64e1a44b",
   "metadata": {},
   "outputs": [
    {
     "name": "stdout",
     "output_type": "stream",
     "text": [
      "Табличное значение t-критерия для 95%-го доверительного интервала данной выборки:  2.262\n"
     ]
    }
   ],
   "source": [
    "def t_from_table(confidens, len_array):\n",
    "    alpha=(1-confidens)\n",
    "    return stats.t.ppf(1-alpha/2, len_array-1)\n",
    "print(f'Табличное значение t-критерия для 95%-го доверительного интервала данной выборки: {t_from_table(0.95, len(arr)): .3f}')"
   ]
  },
  {
   "cell_type": "code",
   "execution_count": 11,
   "id": "19eb4275",
   "metadata": {},
   "outputs": [
    {
     "name": "stdout",
     "output_type": "stream",
     "text": [
      "95%-й доверительный интервал для истинного значения Х: (6.268, 6.912).\n"
     ]
    }
   ],
   "source": [
    "def confidens_int(arr, confidens):\n",
    "    return round(np.mean(arr)-t_from_table(confidens,len(arr))*np.std(arr, ddof=1)/len(arr)**0.5,3), \\\n",
    "           round(np.mean(arr)+t_from_table(confidens,len(arr))*np.std(arr, ddof=1)/len(arr)**0.5,3)\n",
    "\n",
    "print(f'95%-й доверительный интервал для истинного значения Х: {confidens_int(arr, 0.95)}.')"
   ]
  },
  {
   "cell_type": "markdown",
   "id": "e72bcb06",
   "metadata": {},
   "source": [
    "### Задание 3"
   ]
  },
  {
   "cell_type": "markdown",
   "id": "66ccc250",
   "metadata": {},
   "source": [
    "Сформулируем нулевую гипотезу $H0: \\mu=\\mu_0=17$, где $\\mu$ и $\\mu_0$ средние выборки и генеральной совокупности и выборки, соответственно."
   ]
  },
  {
   "cell_type": "markdown",
   "id": "6319ae41",
   "metadata": {},
   "source": [
    "Альтернатива:"
   ]
  },
  {
   "cell_type": "markdown",
   "id": "257bb116",
   "metadata": {},
   "source": [
    "$H1: \\mu>\\mu_0$"
   ]
  },
  {
   "cell_type": "markdown",
   "id": "77705423",
   "metadata": {},
   "source": [
    "Поскольку нам известны и среднее и дисперсия генеральной совокупности, то для проверки гипотезы будем использовать z-критерий."
   ]
  },
  {
   "attachments": {},
   "cell_type": "markdown",
   "id": "4f11a107",
   "metadata": {},
   "source": [
    "$z_н=\\frac{\\bar X-\\mu_0}{\\sigma/\\sqrt n}$"
   ]
  },
  {
   "cell_type": "markdown",
   "id": "2569a415",
   "metadata": {},
   "source": [
    "$\\bar X=\\mu=17.5$ - среднее по выборке,"
   ]
  },
  {
   "cell_type": "markdown",
   "id": "5b1e2fef",
   "metadata": {},
   "source": [
    "$\\sigma=\\sqrt 4=2$ - среднее квадратическое отклонение генеральной совокупности,m"
   ]
  },
  {
   "cell_type": "markdown",
   "id": "c43abf6a",
   "metadata": {},
   "source": [
    "$n=100$ - размер выборки"
   ]
  },
  {
   "cell_type": "code",
   "execution_count": 16,
   "id": "756edd9c",
   "metadata": {},
   "outputs": [
    {
     "name": "stdout",
     "output_type": "stream",
     "text": [
      "2.5\n"
     ]
    }
   ],
   "source": [
    "z=(17.5-17)/0.2\n",
    "print(z)"
   ]
  },
  {
   "cell_type": "markdown",
   "id": "8665a332",
   "metadata": {},
   "source": [
    "Найдем табличное значение z-критерия, для <math xmlns=\"http://www.w3.org/1998/Math/MathML\">\n",
    "  <mi>&#x3B1;</mi>\n",
    "  <mo>=</mo>\n",
    "  <mn>0.05</mn>\n",
    "</math>"
   ]
  },
  {
   "cell_type": "code",
   "execution_count": 17,
   "id": "22b5a01f",
   "metadata": {},
   "outputs": [
    {
     "name": "stdout",
     "output_type": "stream",
     "text": [
      "z - критерий:  1.6449\n"
     ]
    }
   ],
   "source": [
    "zt=stats.norm.ppf(0.95)\n",
    "print(f'z - критерий: {zt: .4f}')"
   ]
  },
  {
   "cell_type": "markdown",
   "id": "34959c1a",
   "metadata": {},
   "source": [
    "Сравним:"
   ]
  },
  {
   "cell_type": "code",
   "execution_count": 20,
   "id": "bdffa156",
   "metadata": {},
   "outputs": [
    {
     "data": {
      "text/plain": [
       "False"
      ]
     },
     "execution_count": 20,
     "metadata": {},
     "output_type": "execute_result"
    }
   ],
   "source": [
    "z<zt"
   ]
  },
  {
   "cell_type": "markdown",
   "id": "504aa8a1",
   "metadata": {},
   "source": [
    "Поскольку $z_н>z_t$ отвергаем нулевую гипотезу на уровне значимости $\\alpha=0.05$"
   ]
  }
 ],
 "metadata": {
  "kernelspec": {
   "display_name": "Python 3 (ipykernel)",
   "language": "python",
   "name": "python3"
  },
  "language_info": {
   "codemirror_mode": {
    "name": "ipython",
    "version": 3
   },
   "file_extension": ".py",
   "mimetype": "text/x-python",
   "name": "python",
   "nbconvert_exporter": "python",
   "pygments_lexer": "ipython3",
   "version": "3.10.4"
  }
 },
 "nbformat": 4,
 "nbformat_minor": 5
}
