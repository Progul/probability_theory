{
 "cells": [
  {
   "cell_type": "markdown",
   "id": "fe061263",
   "metadata": {},
   "source": [
    "### Задание 1\n"
   ]
  },
  {
   "cell_type": "markdown",
   "id": "21f2acc5",
   "metadata": {},
   "source": [
    "Поскольку нам известно среднее квадратическое отклонение генеральной совокупности <math xmlns=\"http://www.w3.org/1998/Math/MathML\">\n",
    "  <mi>&#x3C3;</mi>\n",
    "  <mo>=</mo>\n",
    "  <mn>16</mn>\n",
    "</math>, то для расчета <math xmlns=\"http://www.w3.org/1998/Math/MathML\">\n",
    "  <mn>95</mn>\n",
    "  <mi mathvariant=\"normal\">%</mi>\n",
    "</math>-го доверительного интервала, будем использовать <math xmlns=\"http://www.w3.org/1998/Math/MathML\">\n",
    "  <mi>Z</mi>\n",
    "</math>-критерий. И границы доверительного интервала расчитаем по формуле:"
   ]
  },
  {
   "attachments": {
    "image.png": {
     "image/png": "[encoded data removed]"
    }
   },
   "cell_type": "markdown",
   "id": "e13a4056",
   "metadata": {},
   "source": [
    "![image.png](attachment:image.png)"
   ]
  },
  {
   "cell_type": "markdown",
   "id": "0d357766",
   "metadata": {},
   "source": [
    "<math xmlns=\"http://www.w3.org/1998/Math/MathML\">\n",
    "  <mrow data-mjx-texclass=\"ORD\">\n",
    "    <mover>\n",
    "      <mi>X</mi>\n",
    "      <mo stretchy=\"false\">&#xAF;</mo>\n",
    "    </mover>\n",
    "  </mrow>\n",
    "  <mo>=</mo>\n",
    "  <mi>M</mi>\n",
    "  <mo>=</mo>\n",
    "  <mn>80</mn>\n",
    "</math> - среднее значение выборки"
   ]
  },
  {
   "cell_type": "markdown",
   "id": "a287066f",
   "metadata": {},
   "source": [
    "<math xmlns=\"http://www.w3.org/1998/Math/MathML\">\n",
    "  <msub>\n",
    "    <mi>z</mi>\n",
    "    <mrow data-mjx-texclass=\"ORD\">\n",
    "      <mi>&#x3B1;</mi>\n",
    "      <mrow data-mjx-texclass=\"ORD\">\n",
    "        <mo>/</mo>\n",
    "      </mrow>\n",
    "      <mn>2</mn>\n",
    "    </mrow>\n",
    "  </msub>\n",
    "</math> табличное значение z-критерия, и для 95%-го доверительного интервала <math xmlns=\"http://www.w3.org/1998/Math/MathML\">\n",
    "  <msub>\n",
    "    <mi>z</mi>\n",
    "    <mrow data-mjx-texclass=\"ORD\">\n",
    "      <mi>&#x3B1;</mi>\n",
    "      <mrow data-mjx-texclass=\"ORD\">\n",
    "        <mo>/</mo>\n",
    "      </mrow>\n",
    "      <mn>2</mn>\n",
    "    </mrow>\n",
    "  </msub>\n",
    "  <mo>=</mo>\n",
    "  <mn>1</mn>\n",
    "  <mo>,</mo>\n",
    "  <mn>96</mn>\n",
    "</math>"
   ]
  },
  {
   "cell_type": "markdown",
   "id": "f10377fc",
   "metadata": {},
   "source": [
    "<math xmlns=\"http://www.w3.org/1998/Math/MathML\">\n",
    "  <mi>&#x3C3;</mi>\n",
    "  <mo>=</mo>\n",
    "  <mn>16</mn>\n",
    "</math> - среднее квадратическое отклонение генеральной совокупности"
   ]
  },
  {
   "cell_type": "markdown",
   "id": "0f088e2c",
   "metadata": {},
   "source": [
    "<math xmlns=\"http://www.w3.org/1998/Math/MathML\">\n",
    "  <mi>n</mi>\n",
    "  <mo>=</mo>\n",
    "  <mn>256</mn>\n",
    "</math> - объем выборки"
   ]
  },
  {
   "cell_type": "markdown",
   "id": "83457eec",
   "metadata": {},
   "source": [
    "Таким образом 95%-й доверительный интервал расчитаем как: `[80 - 1.96 * 16/256**2;80+1.96*16/256**2]`"
   ]
  },
  {
   "cell_type": "code",
   "execution_count": 2,
   "id": "b1305872",
   "metadata": {},
   "outputs": [],
   "source": [
    "left=80-1.96*16/256**(1/2)\n",
    "right=80+1.96*16/256**(1/2)"
   ]
  },
  {
   "cell_type": "code",
   "execution_count": 3,
   "id": "098781c8",
   "metadata": {},
   "outputs": [
    {
     "name": "stdout",
     "output_type": "stream",
     "text": [
      "Наш интервал: [78.04;81.96]\n"
     ]
    }
   ],
   "source": [
    "print(f'Наш интервал: [{left};{right}]')"
   ]
  },
  {
   "cell_type": "markdown",
   "id": "485f02c0",
   "metadata": {},
   "source": [
    "### Задание 2"
   ]
  },
  {
   "cell_type": "markdown",
   "id": "9e9b8be2",
   "metadata": {},
   "source": [
    "Поскольку из условия задачи нам ничего не известно ни о мат. ожидании генеральной совокупности ни о среднем квадратическом отклонении для генеральной совокупности, то для расчета 95%-го доверительного интервала будем использовать t-критерий, и формулу:"
   ]
  },
  {
   "attachments": {
    "image-2.png": {
     "image/png": "[encoded data removed]"
    }
   },
   "cell_type": "markdown",
   "id": "13bfcd1a",
   "metadata": {},
   "source": [
    "![image-2.png](attachment:image-2.png)"
   ]
  },
  {
   "cell_type": "markdown",
   "id": "f1f5f564",
   "metadata": {},
   "source": [
    "<math xmlns=\"http://www.w3.org/1998/Math/MathML\">\n",
    "  <msub>\n",
    "    <mi>&#x3C3;</mi>\n",
    "  </msub>\n",
    "</math> - несмещённое среднее квадратическое отклонение выборки,\n",
    "n - размер выборки"
   ]
  },
  {
   "cell_type": "code",
   "execution_count": 5,
   "id": "b1d050d8",
   "metadata": {},
   "outputs": [],
   "source": [
    "import numpy as np"
   ]
  },
  {
   "cell_type": "code",
   "execution_count": 6,
   "id": "a65d5278",
   "metadata": {},
   "outputs": [],
   "source": [
    "arr=np.array([6.9, 6.1, 6.2, 6.8, 7.5, 6.3, 6.4, 6.9, 6.7, 6.1])"
   ]
  },
  {
   "cell_type": "code",
   "execution_count": 7,
   "id": "6a175c2e",
   "metadata": {},
   "outputs": [
    {
     "name": "stdout",
     "output_type": "stream",
     "text": [
      "Среднее выборочное:  6.59,\n",
      "Размер выборки n=10,\n",
      "Среднее квадратическое отклонение по выборке(несмещенное):  0.45.\n"
     ]
    }
   ],
   "source": [
    "print(f'Среднее выборочное: {np.mean(arr): .2f},\\n'\n",
    "      f'Размер выборки n={len(arr)},\\n'\n",
    "      f'Среднее квадратическое отклонение по выборке(несмещенное): {np.std(arr, ddof=1): .2f}.'\n",
    "     )"
   ]
  },
  {
   "cell_type": "markdown",
   "id": "e2621e8b",
   "metadata": {},
   "source": [
    "t - критерий:"
   ]
  },
  {
   "cell_type": "code",
   "execution_count": 9,
   "id": "f4860fe1",
   "metadata": {},
   "outputs": [],
   "source": [
    "import scipy.stats as stats"
   ]
  },
  {
   "cell_type": "code",
   "execution_count": 10,
   "id": "7b009131",
   "metadata": {},
   "outputs": [
    {
     "name": "stdout",
     "output_type": "stream",
     "text": [
      "Табличное значение t-критерия для 95%-го доверительного интервала данной выборки:  2.262\n"
     ]
    }
   ],
   "source": [
    "def t_from_table(confidens, len_array):\n",
    "    alpha=(1-confidens)\n",
    "    return stats.t.ppf(1-alpha/2, len_array-1)\n",
    "print(f'Табличное значение t-критерия для 95%-го доверительного интервала данной выборки: {t_from_table(0.95, len(arr)): .3f}')"
   ]
  },
  {
   "cell_type": "code",
   "execution_count": 11,
   "id": "1da97348",
   "metadata": {},
   "outputs": [
    {
     "name": "stdout",
     "output_type": "stream",
     "text": [
      "95%-й доверительный интервал для истинного значения Х: (6.268, 6.912).\n"
     ]
    }
   ],
   "source": [
    "def confidens_int(arr, confidens):\n",
    "    return round(np.mean(arr)-t_from_table(confidens,len(arr))*np.std(arr, ddof=1)/len(arr)**0.5,3), \\\n",
    "           round(np.mean(arr)+t_from_table(confidens,len(arr))*np.std(arr, ddof=1)/len(arr)**0.5,3)\n",
    "\n",
    "print(f'95%-й доверительный интервал для истинного значения Х: {confidens_int(arr, 0.95)}.')"
   ]
  },
  {
   "cell_type": "markdown",
   "id": "5bb7b53c",
   "metadata": {},
   "source": [
    "### Задание 3"
   ]
  },
  {
   "cell_type": "markdown",
   "id": "fd8fbceb",
   "metadata": {},
   "source": [
    "Сформулируем нулевую гипотезу:\n",
    "<math xmlns=\"http://www.w3.org/1998/Math/MathML\">\n",
    "  <mi>H</mi>\n",
    "  <mn>0</mn>\n",
    "  <mo>:</mo>\n",
    "  <mi>&#x3BC;</mi>\n",
    "  <mo>=</mo>\n",
    "  <msub>\n",
    "    <mi>&#x3BC;</mi>\n",
    "    <mn>0</mn>\n",
    "  </msub>\n",
    "  <mo>=</mo>\n",
    "  <mn>17</mn>\n",
    "</math>, где <math xmlns=\"http://www.w3.org/1998/Math/MathML\">\n",
    "  <mi>&#x3BC;</mi>\n",
    "</math> и <math xmlns=\"http://www.w3.org/1998/Math/MathML\">\n",
    "  <msub>\n",
    "    <mi>&#x3BC;</mi>\n",
    "    <mn>0</mn>\n",
    "  </msub>\n",
    "</math> средние выборки и генеральной совокупности и выборки, соответственно."
   ]
  },
  {
   "cell_type": "markdown",
   "id": "655f02cf",
   "metadata": {},
   "source": [
    "Альтернатива:"
   ]
  },
  {
   "cell_type": "markdown",
   "id": "4e745544",
   "metadata": {},
   "source": [
    "<math xmlns=\"http://www.w3.org/1998/Math/MathML\">\n",
    "  <mi>H</mi>\n",
    "  <mn>1</mn>\n",
    "  <mo>:</mo>\n",
    "  <mi>&#x3BC;</mi>\n",
    "  <mo>&gt;</mo>\n",
    "  <msub>\n",
    "    <mi>&#x3BC;</mi>\n",
    "    <mn>0</mn>\n",
    "  </msub>\n",
    "</math>"
   ]
  },
  {
   "cell_type": "markdown",
   "id": "a4700d31",
   "metadata": {},
   "source": [
    "Поскольку нам известны и среднее и дисперсия генеральной совокупности, то для проверки гипотезы будем использовать z-критерий."
   ]
  },
  {
   "attachments": {
    "image.png": {
     "image/png": "[encoded data removed]"
    }
   },
   "cell_type": "markdown",
   "id": "18d19261",
   "metadata": {},
   "source": [
    "![image.png](attachment:image.png)"
   ]
  },
  {
   "cell_type": "markdown",
   "id": "8e60eced",
   "metadata": {},
   "source": [
    "<math xmlns=\"http://www.w3.org/1998/Math/MathML\">\n",
    "  <mrow data-mjx-texclass=\"ORD\">\n",
    "    <mover>\n",
    "      <mi>X</mi>\n",
    "      <mo stretchy=\"false\">&#xAF;</mo>\n",
    "    </mover>\n",
    "  </mrow>\n",
    "  <mo>=</mo>\n",
    "  <mi>&#x3BC;</mi>\n",
    "  <mo>=</mo>\n",
    "  <mn>17.5</mn>\n",
    "</math> - среднее по выборке,"
   ]
  },
  {
   "cell_type": "markdown",
   "id": "a5cd4973",
   "metadata": {},
   "source": [
    "<math xmlns=\"http://www.w3.org/1998/Math/MathML\">\n",
    "  <mi>&#x3C3;</mi>\n",
    "  <mo>=</mo>\n",
    "  <msqrt>\n",
    "    <mn>4</mn>\n",
    "  </msqrt>\n",
    "  <mo>=</mo>\n",
    "  <mn>2</mn>\n",
    "</math> - среднее квадратическое отклонение генеральной совокупности,"
   ]
  },
  {
   "cell_type": "markdown",
   "id": "4b54d26d",
   "metadata": {},
   "source": [
    "n = 100 - размер выборки"
   ]
  },
  {
   "cell_type": "code",
   "execution_count": 16,
   "id": "cba09ed0",
   "metadata": {},
   "outputs": [
    {
     "name": "stdout",
     "output_type": "stream",
     "text": [
      "2.5\n"
     ]
    }
   ],
   "source": [
    "z=(17.5-17)/0.2\n",
    "print(z)"
   ]
  },
  {
   "cell_type": "markdown",
   "id": "63528665",
   "metadata": {},
   "source": [
    "Найдем табличное значение z-критерия, для <math xmlns=\"http://www.w3.org/1998/Math/MathML\">\n",
    "  <mi>&#x3B1;</mi>\n",
    "  <mo>=</mo>\n",
    "  <mn>0.05</mn>\n",
    "</math>"
   ]
  },
  {
   "cell_type": "code",
   "execution_count": 17,
   "id": "037c7179",
   "metadata": {},
   "outputs": [
    {
     "name": "stdout",
     "output_type": "stream",
     "text": [
      "z - критерий:  1.6449\n"
     ]
    }
   ],
   "source": [
    "zt=stats.norm.ppf(0.95)\n",
    "print(f'z - критерий: {zt: .4f}')"
   ]
  },
  {
   "cell_type": "markdown",
   "id": "6d0b54de",
   "metadata": {},
   "source": [
    "Сравним:"
   ]
  },
  {
   "cell_type": "code",
   "execution_count": 20,
   "id": "4294ebe0",
   "metadata": {},
   "outputs": [
    {
     "data": {
      "text/plain": [
       "False"
      ]
     },
     "execution_count": 20,
     "metadata": {},
     "output_type": "execute_result"
    }
   ],
   "source": [
    "z<zt"
   ]
  },
  {
   "cell_type": "markdown",
   "id": "4f2409d2",
   "metadata": {},
   "source": [
    "Поскольку Zh < Zt отвергаем нулевую гипотезу на уровне значимости <math xmlns=\"http://www.w3.org/1998/Math/MathML\">\n",
    "  <mi>&#x3B1;</mi>\n",
    "  <mo>=</mo>\n",
    "  <mn>0.05</mn>\n",
    "</math>"
   ]
  }
 ],
 "metadata": {
  "kernelspec": {
   "display_name": "Python 3 (ipykernel)",
   "language": "python",
   "name": "python3"
  },
  "language_info": {
   "codemirror_mode": {
    "name": "ipython",
    "version": 3
   },
   "file_extension": ".py",
   "mimetype": "text/x-python",
   "name": "python",
   "nbconvert_exporter": "python",
   "pygments_lexer": "ipython3",
   "version": "3.10.4"
  }
 },
 "nbformat": 4,
 "nbformat_minor": 5
}
