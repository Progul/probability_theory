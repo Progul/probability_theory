{
 "cells": [
  {
   "cell_type": "markdown",
   "id": "35e9a1d5",
   "metadata": {},
   "source": [
    "Напишем функцию для определения z-значений для данного распределения:"
   ]
  },
  {
   "cell_type": "code",
   "execution_count": 1,
   "id": "6e733344",
   "metadata": {},
   "outputs": [],
   "source": [
    "def z_value(height):\n",
    "    return (height-174)/8"
   ]
  },
  {
   "cell_type": "markdown",
   "id": "8b8aaa96",
   "metadata": {},
   "source": [
    "Для расчета значений вероятности воспользуемся калькулятором на этом [сайте](https://datascience.eu/ru/математика-и-статистика/z-таблица/)"
   ]
  },
  {
   "cell_type": "markdown",
   "id": "c1b996da",
   "metadata": {},
   "source": [
    "либо методом cdf, объекта NormalDist стандартного модуля statistics"
   ]
  },
  {
   "cell_type": "code",
   "execution_count": 3,
   "id": "cae9b249",
   "metadata": {},
   "outputs": [],
   "source": [
    "from statistics import NormalDist"
   ]
  },
  {
   "cell_type": "markdown",
   "id": "7823891b",
   "metadata": {},
   "source": [
    "a) Определим <math xmlns=\"http://www.w3.org/1998/Math/MathML\">\n",
    "  <mi>Z</mi>\n",
    "</math>-значениe:"
   ]
  },
  {
   "cell_type": "code",
   "execution_count": 4,
   "id": "4261176a",
   "metadata": {},
   "outputs": [
    {
     "name": "stdout",
     "output_type": "stream",
     "text": [
      "1.0\n"
     ]
    }
   ],
   "source": [
    "print(z_value(182))"
   ]
  },
  {
   "cell_type": "markdown",
   "id": "862bfa76",
   "metadata": {},
   "source": [
    "метод cdf определяет вероятность того, что случайная величина X будет меньше или равна x, т.е в данном случае <math xmlns=\"http://www.w3.org/1998/Math/MathML\">\n",
    "  <mi>P</mi>\n",
    "  <mo stretchy=\"false\">(</mo>\n",
    "  <mi>X</mi>\n",
    "  <mo>&#x2264;</mo>\n",
    "  <mn>182</mn>\n",
    "  <mo stretchy=\"false\">)</mo>\n",
    "</math>"
   ]
  },
  {
   "cell_type": "code",
   "execution_count": 5,
   "id": "6cc9a358",
   "metadata": {},
   "outputs": [
    {
     "data": {
      "text/plain": [
       "0.8413447460685429"
      ]
     },
     "execution_count": 5,
     "metadata": {},
     "output_type": "execute_result"
    }
   ],
   "source": [
    "NormalDist().cdf(z_value(182))"
   ]
  },
  {
   "cell_type": "markdown",
   "id": "60495c9e",
   "metadata": {},
   "source": [
    "Однако нам нужна вероятность <math xmlns=\"http://www.w3.org/1998/Math/MathML\">\n",
    "  <mi>P</mi>\n",
    "  <mo stretchy=\"false\">(</mo>\n",
    "  <mi>X</mi>\n",
    "  <mo>&#x2265;</mo>\n",
    "  <mn>182</mn>\n",
    "  <mo stretchy=\"false\">)</mo>\n",
    "</math>, поэтому вычтем полученное значение из :"
   ]
  },
  {
   "cell_type": "code",
   "execution_count": 7,
   "id": "3799a516",
   "metadata": {},
   "outputs": [
    {
     "data": {
      "text/plain": [
       "0.15865525393145707"
      ]
     },
     "execution_count": 7,
     "metadata": {},
     "output_type": "execute_result"
    }
   ],
   "source": [
    "P=1-NormalDist().cdf(z_value(182))\n",
    "P"
   ]
  },
  {
   "cell_type": "markdown",
   "id": "2652fab1",
   "metadata": {},
   "source": [
    "<math xmlns=\"http://www.w3.org/1998/Math/MathML\">\n",
    "  <mi>P</mi>\n",
    "  <mo stretchy=\"false\">(</mo>\n",
    "  <mi>X</mi>\n",
    "  <mo>&#x2265;</mo>\n",
    "  <mn>182</mn>\n",
    "  <mo stretchy=\"false\">)</mo>\n",
    "  <mo>=</mo>\n",
    "  <mn>0.1587</mn>\n",
    "</math>"
   ]
  },
  {
   "cell_type": "markdown",
   "id": "51e5cb58",
   "metadata": {},
   "source": [
    "б) Определим <math xmlns=\"http://www.w3.org/1998/Math/MathML\">\n",
    "  <mi>Z</mi>\n",
    "</math>-значениe:"
   ]
  },
  {
   "cell_type": "code",
   "execution_count": 9,
   "id": "64978790",
   "metadata": {},
   "outputs": [
    {
     "data": {
      "text/plain": [
       "2.0"
      ]
     },
     "execution_count": 9,
     "metadata": {},
     "output_type": "execute_result"
    }
   ],
   "source": [
    "z=z_value(190)\n",
    "z"
   ]
  },
  {
   "cell_type": "markdown",
   "id": "7b955bd4",
   "metadata": {},
   "source": [
    "Определим <math xmlns=\"http://www.w3.org/1998/Math/MathML\">\n",
    "  <mi>P</mi>\n",
    "  <mo stretchy=\"false\">(</mo>\n",
    "  <mi>X</mi>\n",
    "  <mo>&#x2265;</mo>\n",
    "  <mn>190</mn>\n",
    "  <mo stretchy=\"false\">)</mo>\n",
    "</math> :"
   ]
  },
  {
   "cell_type": "code",
   "execution_count": 10,
   "id": "1ed3ccd3",
   "metadata": {},
   "outputs": [
    {
     "data": {
      "text/plain": [
       "0.02275013194817921"
      ]
     },
     "execution_count": 10,
     "metadata": {},
     "output_type": "execute_result"
    }
   ],
   "source": [
    "P=1-NormalDist().cdf(z)\n",
    "P"
   ]
  },
  {
   "cell_type": "markdown",
   "id": "777ee4d9",
   "metadata": {},
   "source": [
    "<math xmlns=\"http://www.w3.org/1998/Math/MathML\">\n",
    "  <mi>P</mi>\n",
    "  <mo stretchy=\"false\">(</mo>\n",
    "  <mi>X</mi>\n",
    "  <mo>&#x2265;</mo>\n",
    "  <mn>190</mn>\n",
    "  <mo stretchy=\"false\">)</mo>\n",
    "  <mo>=</mo>\n",
    "  <mn>0.02275</mn>\n",
    "</math>"
   ]
  },
  {
   "cell_type": "markdown",
   "id": "649f8443",
   "metadata": {},
   "source": [
    "в) Определим <math xmlns=\"http://www.w3.org/1998/Math/MathML\">\n",
    "  <msub>\n",
    "    <mi>Z</mi>\n",
    "    <mn>1</mn>\n",
    "  </msub>\n",
    "</math> и <math xmlns=\"http://www.w3.org/1998/Math/MathML\">\n",
    "  <msub>\n",
    "    <mi>Z</mi>\n",
    "    <mn>2</mn>\n",
    "  </msub>\n",
    "</math>"
   ]
  },
  {
   "cell_type": "code",
   "execution_count": 14,
   "id": "6265416c",
   "metadata": {},
   "outputs": [
    {
     "data": {
      "text/plain": [
       "-1.0"
      ]
     },
     "execution_count": 14,
     "metadata": {},
     "output_type": "execute_result"
    }
   ],
   "source": [
    "z1=z_value(166)\n",
    "z1"
   ]
  },
  {
   "cell_type": "code",
   "execution_count": 15,
   "id": "19044427",
   "metadata": {},
   "outputs": [
    {
     "data": {
      "text/plain": [
       "2.0"
      ]
     },
     "execution_count": 15,
     "metadata": {},
     "output_type": "execute_result"
    }
   ],
   "source": [
    "z2=z_value(190)\n",
    "z2"
   ]
  },
  {
   "cell_type": "markdown",
   "id": "100ba961",
   "metadata": {},
   "source": [
    "Определим <math xmlns=\"http://www.w3.org/1998/Math/MathML\">\n",
    "  <mi>P</mi>\n",
    "  <mo stretchy=\"false\">(</mo>\n",
    "  <mn>166</mn>\n",
    "  <mo>&#x2264;</mo>\n",
    "  <mi>X</mi>\n",
    "  <mo>&#x2264;</mo>\n",
    "  <mn>190</mn>\n",
    "  <mo stretchy=\"false\">)</mo>\n",
    "</math>"
   ]
  },
  {
   "cell_type": "code",
   "execution_count": 16,
   "id": "689e99f9",
   "metadata": {},
   "outputs": [
    {
     "data": {
      "text/plain": [
       "0.8185946141203637"
      ]
     },
     "execution_count": 16,
     "metadata": {},
     "output_type": "execute_result"
    }
   ],
   "source": [
    "P=NormalDist().cdf(z2)-NormalDist().cdf(z1)\n",
    "P"
   ]
  },
  {
   "cell_type": "markdown",
   "id": "c6eecde1",
   "metadata": {},
   "source": [
    "<math xmlns=\"http://www.w3.org/1998/Math/MathML\">\n",
    "  <mi>P</mi>\n",
    "  <mo stretchy=\"false\">(</mo>\n",
    "  <mn>166</mn>\n",
    "  <mo>&#x2264;</mo>\n",
    "  <mi>X</mi>\n",
    "  <mo>&#x2264;</mo>\n",
    "  <mn>190</mn>\n",
    "  <mo stretchy=\"false\">)</mo>\n",
    "  <mo>=</mo>\n",
    "  <mn>0.8186</mn>\n",
    "</math>"
   ]
  },
  {
   "cell_type": "markdown",
   "id": "da22a723",
   "metadata": {},
   "source": [
    "г) Определим <math xmlns=\"http://www.w3.org/1998/Math/MathML\">\n",
    "  <msub>\n",
    "    <mi>Z</mi>\n",
    "    <mn>1</mn>\n",
    "  </msub>\n",
    "</math> и <math xmlns=\"http://www.w3.org/1998/Math/MathML\">\n",
    "  <msub>\n",
    "    <mi>Z</mi>\n",
    "    <mn>2</mn>\n",
    "  </msub>\n",
    "</math>"
   ]
  },
  {
   "cell_type": "code",
   "execution_count": 17,
   "id": "51db4ff9",
   "metadata": {},
   "outputs": [
    {
     "data": {
      "text/plain": [
       "-1.0"
      ]
     },
     "execution_count": 17,
     "metadata": {},
     "output_type": "execute_result"
    }
   ],
   "source": [
    "z1=z_value(166)\n",
    "z1"
   ]
  },
  {
   "cell_type": "code",
   "execution_count": 18,
   "id": "5f5f1aca",
   "metadata": {},
   "outputs": [
    {
     "data": {
      "text/plain": [
       "1.0"
      ]
     },
     "execution_count": 18,
     "metadata": {},
     "output_type": "execute_result"
    }
   ],
   "source": [
    "z2=z_value(182)\n",
    "z2"
   ]
  },
  {
   "cell_type": "markdown",
   "id": "8a080ce6",
   "metadata": {},
   "source": [
    "Определим <math xmlns=\"http://www.w3.org/1998/Math/MathML\">\n",
    "  <mi>P</mi>\n",
    "  <mo stretchy=\"false\">(</mo>\n",
    "  <mn>166</mn>\n",
    "  <mo>&#x2264;</mo>\n",
    "  <mi>X</mi>\n",
    "  <mo>&#x2264;</mo>\n",
    "  <mn>182</mn>\n",
    "  <mo stretchy=\"false\">)</mo>\n",
    "</math>"
   ]
  },
  {
   "cell_type": "code",
   "execution_count": 19,
   "id": "c99e2eae",
   "metadata": {},
   "outputs": [
    {
     "data": {
      "text/plain": [
       "0.6826894921370859"
      ]
     },
     "execution_count": 19,
     "metadata": {},
     "output_type": "execute_result"
    }
   ],
   "source": [
    "P=NormalDist().cdf(z2)-NormalDist().cdf(z1)\n",
    "P"
   ]
  },
  {
   "cell_type": "markdown",
   "id": "15525998",
   "metadata": {},
   "source": [
    "<math xmlns=\"http://www.w3.org/1998/Math/MathML\">\n",
    "  <mi>P</mi>\n",
    "  <mo stretchy=\"false\">(</mo>\n",
    "  <mn>166</mn>\n",
    "  <mo>&#x2264;</mo>\n",
    "  <mi>X</mi>\n",
    "  <mo>&#x2264;</mo>\n",
    "  <mn>182</mn>\n",
    "  <mo stretchy=\"false\">)</mo>\n",
    "  <mo>=</mo>\n",
    "  <mn>0.6827</mn>\n",
    "</math>"
   ]
  },
  {
   "cell_type": "markdown",
   "id": "65b158b7",
   "metadata": {},
   "source": [
    "д) Определим <math xmlns=\"http://www.w3.org/1998/Math/MathML\">\n",
    "  <msub>\n",
    "    <mi>Z</mi>\n",
    "    <mn>1</mn>\n",
    "  </msub>\n",
    "</math> и <math xmlns=\"http://www.w3.org/1998/Math/MathML\">\n",
    "  <msub>\n",
    "    <mi>Z</mi>\n",
    "    <mn>2</mn>\n",
    "  </msub>\n",
    "</math>"
   ]
  },
  {
   "cell_type": "code",
   "execution_count": 20,
   "id": "84212d93",
   "metadata": {},
   "outputs": [
    {
     "data": {
      "text/plain": [
       "-2.0"
      ]
     },
     "execution_count": 20,
     "metadata": {},
     "output_type": "execute_result"
    }
   ],
   "source": [
    "z1=z_value(158)\n",
    "z1"
   ]
  },
  {
   "cell_type": "code",
   "execution_count": 21,
   "id": "1018cfa4",
   "metadata": {},
   "outputs": [
    {
     "data": {
      "text/plain": [
       "2.0"
      ]
     },
     "execution_count": 21,
     "metadata": {},
     "output_type": "execute_result"
    }
   ],
   "source": [
    "z2=z_value(190)\n",
    "z2"
   ]
  },
  {
   "cell_type": "markdown",
   "id": "9e534c99",
   "metadata": {},
   "source": [
    "Определим <math xmlns=\"http://www.w3.org/1998/Math/MathML\">\n",
    "  <mi>P</mi>\n",
    "  <mo stretchy=\"false\">(</mo>\n",
    "  <mn>158</mn>\n",
    "  <mo>&#x2264;</mo>\n",
    "  <mi>X</mi>\n",
    "  <mo>&#x2264;</mo>\n",
    "  <mn>190</mn>\n",
    "  <mo stretchy=\"false\">)</mo>\n",
    "</math>"
   ]
  },
  {
   "cell_type": "code",
   "execution_count": 25,
   "id": "22404105",
   "metadata": {},
   "outputs": [
    {
     "data": {
      "text/plain": [
       "0.9544997361036416"
      ]
     },
     "execution_count": 25,
     "metadata": {},
     "output_type": "execute_result"
    }
   ],
   "source": [
    "P=NormalDist().cdf(z2)-NormalDist().cdf(z1)\n",
    "P"
   ]
  },
  {
   "cell_type": "markdown",
   "id": "2e2b82f6",
   "metadata": {},
   "source": [
    "<math xmlns=\"http://www.w3.org/1998/Math/MathML\">\n",
    "  <mi>P</mi>\n",
    "  <mo stretchy=\"false\">(</mo>\n",
    "  <mn>158</mn>\n",
    "  <mo>&#x2264;</mo>\n",
    "  <mi>X</mi>\n",
    "  <mo>&#x2264;</mo>\n",
    "  <mn>190</mn>\n",
    "  <mo stretchy=\"false\">)</mo>\n",
    "  <mo>=</mo>\n",
    "  <mn>0.9545</mn>\n",
    "</math>"
   ]
  },
  {
   "cell_type": "markdown",
   "id": "a25742ba",
   "metadata": {},
   "source": [
    "е) Определим <math xmlns=\"http://www.w3.org/1998/Math/MathML\">\n",
    "  <msub>\n",
    "    <mi>Z</mi>\n",
    "    <mn>1</mn>\n",
    "  </msub>\n",
    "</math> и <math xmlns=\"http://www.w3.org/1998/Math/MathML\">\n",
    "  <msub>\n",
    "    <mi>Z</mi>\n",
    "    <mn>2</mn>\n",
    "  </msub>\n",
    "</math>"
   ]
  },
  {
   "cell_type": "code",
   "execution_count": 26,
   "id": "c9528bda",
   "metadata": {},
   "outputs": [
    {
     "data": {
      "text/plain": [
       "-3.0"
      ]
     },
     "execution_count": 26,
     "metadata": {},
     "output_type": "execute_result"
    }
   ],
   "source": [
    "z1=z_value(150)\n",
    "z1"
   ]
  },
  {
   "cell_type": "code",
   "execution_count": 27,
   "id": "1df29228",
   "metadata": {},
   "outputs": [
    {
     "data": {
      "text/plain": [
       "2.0"
      ]
     },
     "execution_count": 27,
     "metadata": {},
     "output_type": "execute_result"
    }
   ],
   "source": [
    "z2=z_value(190)\n",
    "z2"
   ]
  },
  {
   "cell_type": "markdown",
   "id": "7aab5570",
   "metadata": {},
   "source": [
    "Определим <math xmlns=\"http://www.w3.org/1998/Math/MathML\">\n",
    "  <mi>P</mi>\n",
    "  <mo stretchy=\"false\">(</mo>\n",
    "  <mi>X</mi>\n",
    "  <mo>&#x2264;</mo>\n",
    "  <mn>150</mn>\n",
    "  <mo>&#x222A;</mo>\n",
    "  <mi>X</mi>\n",
    "  <mo>&#x2265;</mo>\n",
    "  <mn>190</mn>\n",
    "  <mo stretchy=\"false\">)</mo>\n",
    "</math>"
   ]
  },
  {
   "cell_type": "code",
   "execution_count": 28,
   "id": "e584f3a4",
   "metadata": {},
   "outputs": [
    {
     "data": {
      "text/plain": [
       "0.024100029979809312"
      ]
     },
     "execution_count": 28,
     "metadata": {},
     "output_type": "execute_result"
    }
   ],
   "source": [
    "P=NormalDist().cdf(z1)+(1-NormalDist().cdf(z2))\n",
    "P"
   ]
  },
  {
   "cell_type": "markdown",
   "id": "47afad4a",
   "metadata": {},
   "source": [
    "<math xmlns=\"http://www.w3.org/1998/Math/MathML\">\n",
    "  <mi>P</mi>\n",
    "  <mo stretchy=\"false\">(</mo>\n",
    "  <mi>X</mi>\n",
    "  <mo>&#x2264;</mo>\n",
    "  <mn>150</mn>\n",
    "  <mo>&#x222A;</mo>\n",
    "  <mi>X</mi>\n",
    "  <mo>&#x2265;</mo>\n",
    "  <mn>190</mn>\n",
    "  <mo stretchy=\"false\">)</mo>\n",
    "  <mo>=</mo>\n",
    "  <mn>0.0241</mn>\n",
    "</math>"
   ]
  },
  {
   "cell_type": "markdown",
   "id": "43160735",
   "metadata": {},
   "source": [
    "ё) Определим <math xmlns=\"http://www.w3.org/1998/Math/MathML\">\n",
    "  <msub>\n",
    "    <mi>Z</mi>\n",
    "    <mn>1</mn>\n",
    "  </msub>\n",
    "</math> и <math xmlns=\"http://www.w3.org/1998/Math/MathML\">\n",
    "  <msub>\n",
    "    <mi>Z</mi>\n",
    "    <mn>2</mn>\n",
    "  </msub>\n",
    "</math>"
   ]
  },
  {
   "cell_type": "code",
   "execution_count": 29,
   "id": "95cc3d24",
   "metadata": {},
   "outputs": [
    {
     "data": {
      "text/plain": [
       "-3.0"
      ]
     },
     "execution_count": 29,
     "metadata": {},
     "output_type": "execute_result"
    }
   ],
   "source": [
    "z1=z_value(150)\n",
    "z1"
   ]
  },
  {
   "cell_type": "code",
   "execution_count": 30,
   "id": "aa8dc155",
   "metadata": {},
   "outputs": [
    {
     "data": {
      "text/plain": [
       "3.0"
      ]
     },
     "execution_count": 30,
     "metadata": {},
     "output_type": "execute_result"
    }
   ],
   "source": [
    "z2=z_value(198)\n",
    "z2"
   ]
  },
  {
   "cell_type": "markdown",
   "id": "f16c96f1",
   "metadata": {},
   "source": [
    "Определим <math xmlns=\"http://www.w3.org/1998/Math/MathML\">\n",
    "  <mi>P</mi>\n",
    "  <mo stretchy=\"false\">(</mo>\n",
    "  <mi>X</mi>\n",
    "  <mo>&#x2264;</mo>\n",
    "  <mn>150</mn>\n",
    "  <mo>&#x222A;</mo>\n",
    "  <mi>X</mi>\n",
    "  <mo>&#x2265;</mo>\n",
    "  <mn>198</mn>\n",
    "  <mo stretchy=\"false\">)</mo>\n",
    "</math>"
   ]
  },
  {
   "cell_type": "code",
   "execution_count": 31,
   "id": "0676dd4c",
   "metadata": {},
   "outputs": [
    {
     "data": {
      "text/plain": [
       "0.002699796063260207"
      ]
     },
     "execution_count": 31,
     "metadata": {},
     "output_type": "execute_result"
    }
   ],
   "source": [
    "P=NormalDist().cdf(z1)+(1-NormalDist().cdf(z2))\n",
    "P"
   ]
  },
  {
   "cell_type": "markdown",
   "id": "27e89533",
   "metadata": {},
   "source": [
    "<math xmlns=\"http://www.w3.org/1998/Math/MathML\">\n",
    "  <mi>P</mi>\n",
    "  <mo stretchy=\"false\">(</mo>\n",
    "  <mi>X</mi>\n",
    "  <mo>&#x2264;</mo>\n",
    "  <mn>150</mn>\n",
    "  <mo>&#x222A;</mo>\n",
    "  <mi>X</mi>\n",
    "  <mo>&#x2265;</mo>\n",
    "  <mn>198</mn>\n",
    "  <mo stretchy=\"false\">)</mo>\n",
    "  <mo>=</mo>\n",
    "  <mn>0.0027</mn>\n",
    "</math>"
   ]
  },
  {
   "cell_type": "markdown",
   "id": "e15a17b2",
   "metadata": {},
   "source": [
    "ж) Определим <math xmlns=\"http://www.w3.org/1998/Math/MathML\">\n",
    "  <mi>Z</mi>\n",
    "</math>-значениe:"
   ]
  },
  {
   "cell_type": "code",
   "execution_count": 34,
   "id": "5a6fc0b4",
   "metadata": {},
   "outputs": [
    {
     "data": {
      "text/plain": [
       "-1.0"
      ]
     },
     "execution_count": 34,
     "metadata": {},
     "output_type": "execute_result"
    }
   ],
   "source": [
    "z=z_value(166)\n",
    "z"
   ]
  },
  {
   "cell_type": "markdown",
   "id": "80e9204e",
   "metadata": {},
   "source": [
    "Определим <math xmlns=\"http://www.w3.org/1998/Math/MathML\">\n",
    "  <mi>P</mi>\n",
    "  <mo stretchy=\"false\">(</mo>\n",
    "  <mi>X</mi>\n",
    "  <mo>&#x2264;</mo>\n",
    "  <mn>166</mn>\n",
    "  <mo stretchy=\"false\">)</mo>\n",
    "</math>"
   ]
  },
  {
   "cell_type": "code",
   "execution_count": 35,
   "id": "e170aecc",
   "metadata": {},
   "outputs": [
    {
     "data": {
      "text/plain": [
       "0.15865525393145707"
      ]
     },
     "execution_count": 35,
     "metadata": {},
     "output_type": "execute_result"
    }
   ],
   "source": [
    "P=NormalDist().cdf(z)\n",
    "P"
   ]
  },
  {
   "cell_type": "markdown",
   "id": "f024392f",
   "metadata": {},
   "source": [
    "<math xmlns=\"http://www.w3.org/1998/Math/MathML\">\n",
    "  <mi>P</mi>\n",
    "  <mo stretchy=\"false\">(</mo>\n",
    "  <mi>X</mi>\n",
    "  <mo>&#x2264;</mo>\n",
    "  <mn>166</mn>\n",
    "  <mo stretchy=\"false\">)</mo>\n",
    "  <mo>=</mo>\n",
    "  <mn>0.1587</mn>\n",
    "</math>"
   ]
  }
 ],
 "metadata": {
  "kernelspec": {
   "display_name": "Python 3 (ipykernel)",
   "language": "python",
   "name": "python3"
  },
  "language_info": {
   "codemirror_mode": {
    "name": "ipython",
    "version": 3
   },
   "file_extension": ".py",
   "mimetype": "text/x-python",
   "name": "python",
   "nbconvert_exporter": "python",
   "pygments_lexer": "ipython3",
   "version": "3.10.4"
  }
 },
 "nbformat": 4,
 "nbformat_minor": 5
}
