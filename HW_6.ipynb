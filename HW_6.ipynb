{
 "cells": [
  {
   "cell_type": "markdown",
   "id": "331fbad8",
   "metadata": {},
   "source": [
    "### Задание 1"
   ]
  },
  {
   "cell_type": "code",
   "execution_count": 1,
   "id": "89ac9bbf",
   "metadata": {},
   "outputs": [],
   "source": [
    "import numpy as np\n",
    "import pandas as pd\n",
    "import matplotlib.pyplot as plt\n",
    "\n",
    "%matplotlib inline"
   ]
  },
  {
   "cell_type": "code",
   "execution_count": 2,
   "id": "9eff454b",
   "metadata": {},
   "outputs": [],
   "source": [
    "zp=np.array([35, 45, 190, 200, 40, 70, 54, 150, 120, 110])\n",
    "ks=np.array([401, 574, 874, 919, 459, 739, 653, 902, 746, 832])"
   ]
  },
  {
   "cell_type": "markdown",
   "id": "d71cd757",
   "metadata": {},
   "source": [
    "Посмотрим на графике, есть ли зависимость:"
   ]
  },
  {
   "cell_type": "code",
   "execution_count": 24,
   "id": "add717eb",
   "metadata": {},
   "outputs": [
    {
     "data": {
      "image/png": "[encoded data removed]",
      "text/plain": [
       "<Figure size 432x288 with 1 Axes>"
      ]
     },
     "metadata": {
      "needs_background": "light"
     },
     "output_type": "display_data"
    }
   ],
   "source": [
    "plt.scatter(zp,ks)\n",
    "plt.xlabel('Величина заработной платы')\n",
    "plt.ylabel('Поведенческий скоринг', rotation=90)\n",
    "plt.show()"
   ]
  },
  {
   "cell_type": "markdown",
   "id": "ff0932e4",
   "metadata": {},
   "source": [
    "Как видно из графика, большим значениям величины заработной платы соответствуют большие размеры кредитного скоринга. Значит будем ожидать, что между этими данными существует выраженная положительная корреляция."
   ]
  },
  {
   "cell_type": "markdown",
   "id": "bc55b51b",
   "metadata": {},
   "source": [
    "Найдем коэффициент ковариации по формуле:\n",
    "$\\displaystyle cov_{X,Y}=M(XY)-M(X)\\cdot M(Y)$"
   ]
  },
  {
   "cell_type": "code",
   "execution_count": 4,
   "id": "765f6410",
   "metadata": {},
   "outputs": [],
   "source": [
    "def covar(array1, array2):\n",
    "    MXY=sum(array1*array2)/len(array1)\n",
    "    MX=sum(array1)/len(array1)\n",
    "    MY=sum(array2)/len(array2)\n",
    "    return MXY-MX*MY"
   ]
  },
  {
   "cell_type": "markdown",
   "id": "0f75757a",
   "metadata": {},
   "source": [
    "Коэффициент ковариации:"
   ]
  },
  {
   "cell_type": "code",
   "execution_count": 5,
   "id": "a299c1b8",
   "metadata": {},
   "outputs": [
    {
     "data": {
      "text/plain": [
       "9157.839999999997"
      ]
     },
     "execution_count": 5,
     "metadata": {},
     "output_type": "execute_result"
    }
   ],
   "source": [
    "covar(zp,ks)"
   ]
  },
  {
   "cell_type": "markdown",
   "id": "2fe02eed",
   "metadata": {},
   "source": [
    "Воспользуемся функцией cov библиотеки numpy:"
   ]
  },
  {
   "cell_type": "code",
   "execution_count": 7,
   "id": "4cb03070",
   "metadata": {},
   "outputs": [
    {
     "data": {
      "text/plain": [
       "array([[ 3494.64,  9157.84],\n",
       "       [ 9157.84, 30468.89]])"
      ]
     },
     "execution_count": 7,
     "metadata": {},
     "output_type": "execute_result"
    }
   ],
   "source": [
    "np.cov(zp, ks, ddof=0)"
   ]
  },
  {
   "cell_type": "markdown",
   "id": "0899e90f",
   "metadata": {},
   "source": [
    "Коэффициент корреляции Пирсона расчитаем по формуле:"
   ]
  },
  {
   "cell_type": "markdown",
   "id": "973808b2",
   "metadata": {},
   "source": [
    "$\\displaystyle r_{X,Y}=\\frac{cov_{X,Y}}{\\sigma_X\\cdot\\sigma_Y}$"
   ]
  },
  {
   "cell_type": "markdown",
   "id": "7d02b4e2",
   "metadata": {},
   "source": [
    "При этом следует помнить, что для несмещённой ковариации берутся несмещённые значения среднего квадратического отклонения, а для смещённой-смещённые."
   ]
  },
  {
   "cell_type": "code",
   "execution_count": 9,
   "id": "ec6bf4d3",
   "metadata": {},
   "outputs": [],
   "source": [
    "def sigma(array, offset=True):\n",
    "    mean_array=sum(array)/len(array)\n",
    "    square_dev=(array-mean_array)**2\n",
    "    variance=sum(square_dev)/len(array) if offset else sum(square_dev)/(len(array)-1)\n",
    "    return variance**0.5    "
   ]
  },
  {
   "cell_type": "code",
   "execution_count": 10,
   "id": "f5c7daf4",
   "metadata": {},
   "outputs": [
    {
     "name": "stdout",
     "output_type": "stream",
     "text": [
      "Коэффициент корреляции r =  0.88749\n"
     ]
    }
   ],
   "source": [
    "r=covar(zp, ks)/(sigma(zp)*sigma(ks))\n",
    "print(f'Коэффициент корреляции r = {r: .5f}')"
   ]
  },
  {
   "cell_type": "code",
   "execution_count": 11,
   "id": "414483a2",
   "metadata": {},
   "outputs": [
    {
     "name": "stdout",
     "output_type": "stream",
     "text": [
      "Коэффициент корреляции r = [[0.33866702 0.88749009]\n",
      " [0.88749009 2.95275283]]\n"
     ]
    }
   ],
   "source": [
    "r1=np.cov(zp, ks, ddof=1)/(sigma(zp, offset=False)*sigma(ks, offset=False))\n",
    "print(f'Коэффициент корреляции r = {r1}')"
   ]
  },
  {
   "cell_type": "markdown",
   "id": "f22f4bb6",
   "metadata": {},
   "source": [
    "Воспользуемся функцией corrcoef библиотеки numpy:"
   ]
  },
  {
   "cell_type": "code",
   "execution_count": 13,
   "id": "e8cc3b62",
   "metadata": {},
   "outputs": [
    {
     "data": {
      "text/plain": [
       "array([[1.        , 0.88749009],\n",
       "       [0.88749009, 1.        ]])"
      ]
     },
     "execution_count": 13,
     "metadata": {},
     "output_type": "execute_result"
    }
   ],
   "source": [
    "np.corrcoef(zp,ks)"
   ]
  },
  {
   "cell_type": "markdown",
   "id": "624daa3f",
   "metadata": {},
   "source": [
    "Воспользуемся функцией corr библиотеки pandas:\n",
    "\n"
   ]
  },
  {
   "cell_type": "code",
   "execution_count": 15,
   "id": "e525a2e0",
   "metadata": {},
   "outputs": [
    {
     "data": {
      "text/html": [
       "<div>\n",
       "<style scoped>\n",
       "    .dataframe tbody tr th:only-of-type {\n",
       "        vertical-align: middle;\n",
       "    }\n",
       "\n",
       "    .dataframe tbody tr th {\n",
       "        vertical-align: top;\n",
       "    }\n",
       "\n",
       "    .dataframe thead th {\n",
       "        text-align: right;\n",
       "    }\n",
       "</style>\n",
       "<table border=\"1\" class=\"dataframe\">\n",
       "  <thead>\n",
       "    <tr style=\"text-align: right;\">\n",
       "      <th></th>\n",
       "      <th>zp</th>\n",
       "      <th>ks</th>\n",
       "    </tr>\n",
       "  </thead>\n",
       "  <tbody>\n",
       "    <tr>\n",
       "      <th>0</th>\n",
       "      <td>35</td>\n",
       "      <td>401</td>\n",
       "    </tr>\n",
       "    <tr>\n",
       "      <th>1</th>\n",
       "      <td>45</td>\n",
       "      <td>574</td>\n",
       "    </tr>\n",
       "    <tr>\n",
       "      <th>2</th>\n",
       "      <td>190</td>\n",
       "      <td>874</td>\n",
       "    </tr>\n",
       "    <tr>\n",
       "      <th>3</th>\n",
       "      <td>200</td>\n",
       "      <td>919</td>\n",
       "    </tr>\n",
       "    <tr>\n",
       "      <th>4</th>\n",
       "      <td>40</td>\n",
       "      <td>459</td>\n",
       "    </tr>\n",
       "    <tr>\n",
       "      <th>5</th>\n",
       "      <td>70</td>\n",
       "      <td>739</td>\n",
       "    </tr>\n",
       "    <tr>\n",
       "      <th>6</th>\n",
       "      <td>54</td>\n",
       "      <td>653</td>\n",
       "    </tr>\n",
       "    <tr>\n",
       "      <th>7</th>\n",
       "      <td>150</td>\n",
       "      <td>902</td>\n",
       "    </tr>\n",
       "    <tr>\n",
       "      <th>8</th>\n",
       "      <td>120</td>\n",
       "      <td>746</td>\n",
       "    </tr>\n",
       "    <tr>\n",
       "      <th>9</th>\n",
       "      <td>110</td>\n",
       "      <td>832</td>\n",
       "    </tr>\n",
       "  </tbody>\n",
       "</table>\n",
       "</div>"
      ],
      "text/plain": [
       "    zp   ks\n",
       "0   35  401\n",
       "1   45  574\n",
       "2  190  874\n",
       "3  200  919\n",
       "4   40  459\n",
       "5   70  739\n",
       "6   54  653\n",
       "7  150  902\n",
       "8  120  746\n",
       "9  110  832"
      ]
     },
     "execution_count": 15,
     "metadata": {},
     "output_type": "execute_result"
    }
   ],
   "source": [
    "df=pd.DataFrame(data={'zp':zp, 'ks':ks})\n",
    "df"
   ]
  },
  {
   "cell_type": "code",
   "execution_count": 16,
   "id": "a62bc47c",
   "metadata": {},
   "outputs": [
    {
     "data": {
      "text/html": [
       "<div>\n",
       "<style scoped>\n",
       "    .dataframe tbody tr th:only-of-type {\n",
       "        vertical-align: middle;\n",
       "    }\n",
       "\n",
       "    .dataframe tbody tr th {\n",
       "        vertical-align: top;\n",
       "    }\n",
       "\n",
       "    .dataframe thead th {\n",
       "        text-align: right;\n",
       "    }\n",
       "</style>\n",
       "<table border=\"1\" class=\"dataframe\">\n",
       "  <thead>\n",
       "    <tr style=\"text-align: right;\">\n",
       "      <th></th>\n",
       "      <th>zp</th>\n",
       "      <th>ks</th>\n",
       "    </tr>\n",
       "  </thead>\n",
       "  <tbody>\n",
       "    <tr>\n",
       "      <th>zp</th>\n",
       "      <td>1.00000</td>\n",
       "      <td>0.88749</td>\n",
       "    </tr>\n",
       "    <tr>\n",
       "      <th>ks</th>\n",
       "      <td>0.88749</td>\n",
       "      <td>1.00000</td>\n",
       "    </tr>\n",
       "  </tbody>\n",
       "</table>\n",
       "</div>"
      ],
      "text/plain": [
       "         zp       ks\n",
       "zp  1.00000  0.88749\n",
       "ks  0.88749  1.00000"
      ]
     },
     "execution_count": 16,
     "metadata": {},
     "output_type": "execute_result"
    }
   ],
   "source": [
    "df.corr()"
   ]
  },
  {
   "cell_type": "markdown",
   "id": "c32aedd1",
   "metadata": {},
   "source": [
    "Как и предполагалось из графика, существует сильная линейная взаимосвязь между исходными данными."
   ]
  },
  {
   "cell_type": "markdown",
   "id": "8d3d177f",
   "metadata": {},
   "source": [
    "### Задание 2"
   ]
  },
  {
   "cell_type": "markdown",
   "id": "6a30c866",
   "metadata": {},
   "source": [
    "Поскольку из условия задачи нам ничего не известно ни о мат. ожидании генеральной совокупности ни о среднем квадратическом отклонении для генеральной совокупности, то для расчета 95%-го доверительного интервала будем использовать t-критерий, и формулу:\n",
    "\n",
    "$\\displaystyle\\bar X\\pm t_{\\alpha/2}\\cdot\\frac{\\sigma_{несмещ}}{\\sqrt{n}}$\n"
   ]
  },
  {
   "cell_type": "code",
   "execution_count": 17,
   "id": "cbfc97bc",
   "metadata": {},
   "outputs": [
    {
     "name": "stdout",
     "output_type": "stream",
     "text": [
      "Среднее выборочное:  118.10,\n",
      "Размер выборки n=10,\n",
      "Среднее квадратическое отклонение по выборке(несмещенное):  10.55.\n"
     ]
    }
   ],
   "source": [
    "arr=np.array([131, 125, 115, 122, 131, 115, 107, 99, 125, 111])\n",
    "print(f'Среднее выборочное: {np.mean(arr): .2f},\\n'\n",
    "      f'Размер выборки n={len(arr)},\\n'\n",
    "      f'Среднее квадратическое отклонение по выборке(несмещенное): {np.std(arr, ddof=1): .2f}.'\n",
    "     )"
   ]
  },
  {
   "cell_type": "code",
   "execution_count": 23,
   "id": "cc2f3e0c",
   "metadata": {},
   "outputs": [],
   "source": [
    "import scipy.stats as stats"
   ]
  },
  {
   "cell_type": "code",
   "execution_count": 19,
   "id": "808b8f52",
   "metadata": {},
   "outputs": [
    {
     "name": "stdout",
     "output_type": "stream",
     "text": [
      "Табличное значение t-критерия для 95%-го доверительного интервала данной выборки:  2.262\n"
     ]
    }
   ],
   "source": [
    "def t_from_table(confidens, len_array):\n",
    "    alpha=(1-confidens)\n",
    "    return stats.t.ppf(1-alpha/2, len_array-1)\n",
    "print(f'Табличное значение t-критерия для 95%-го доверительного интервала данной выборки: {t_from_table(0.95, len(arr)): .3f}')"
   ]
  },
  {
   "cell_type": "code",
   "execution_count": 20,
   "id": "5e4b167c",
   "metadata": {},
   "outputs": [
    {
     "name": "stdout",
     "output_type": "stream",
     "text": [
      "95%-й доверительный интервал для истинного значения IQ: (110.556, 125.644).\n"
     ]
    }
   ],
   "source": [
    "def confidens_int(arr, confidens):\n",
    "    return round(np.mean(arr)-t_from_table(confidens,len(arr))*np.std(arr, ddof=1)/len(arr)**0.5,3), \\\n",
    "           round(np.mean(arr)+t_from_table(confidens,len(arr))*np.std(arr, ddof=1)/len(arr)**0.5,3)\n",
    "\n",
    "print(f'95%-й доверительный интервал для истинного значения IQ: {confidens_int(arr, 0.95)}.')"
   ]
  },
  {
   "cell_type": "markdown",
   "id": "c326f62a",
   "metadata": {},
   "source": [
    "### Задание 3"
   ]
  },
  {
   "cell_type": "markdown",
   "id": "f4031650",
   "metadata": {},
   "source": [
    "Поскольку известнa дисперсия генеральной совокупности $\\sigma^2=25$, то для расчета 95%-го доверительного интервала, буду использовать Z-критерий. И границы доверительного интервала расчитаю по формуле:"
   ]
  },
  {
   "cell_type": "markdown",
   "id": "50ac0e53",
   "metadata": {},
   "source": [
    "$\\displaystyle\\bar X\\pm z_{\\alpha/2}\\cdot\\frac{\\sqrt{\\sigma^2}}{\\sqrt n}$, где"
   ]
  },
  {
   "cell_type": "markdown",
   "id": "46f22362",
   "metadata": {},
   "source": [
    "$\\bar X=M=174.2$ - среднее значение выборки"
   ]
  },
  {
   "cell_type": "markdown",
   "id": "5b73c96e",
   "metadata": {},
   "source": [
    "$z_{\\alpha/2}$ - табличное значение Z-критерия, и для 95%-го доверительного интервала $z_{\\alpha/2}=1,96$"
   ]
  },
  {
   "cell_type": "markdown",
   "id": "c88df92a",
   "metadata": {},
   "source": [
    "$\\sigma^2=25$ - дисперсия генеральной совокупности"
   ]
  },
  {
   "cell_type": "markdown",
   "id": "02bdf9cf",
   "metadata": {},
   "source": [
    "$n=27$ - объем выборки"
   ]
  },
  {
   "cell_type": "code",
   "execution_count": 22,
   "id": "2052aeb4",
   "metadata": {},
   "outputs": [
    {
     "name": "stdout",
     "output_type": "stream",
     "text": [
      "95%-й доверительный интервал для оценки мат. ожидания генеральной совокупности: [ 172.3140; 176.0860].\n"
     ]
    }
   ],
   "source": [
    "left=174.2-(1.96*25**0.5)/27**0.5\n",
    "right=174.2+(1.96*25**0.5)/27**0.5\n",
    "print(f'95%-й доверительный интервал для оценки мат. ожидания генеральной совокупности: [{left: .4f};{right: .4f}].')"
   ]
  }
 ],
 "metadata": {
  "kernelspec": {
   "display_name": "Python 3 (ipykernel)",
   "language": "python",
   "name": "python3"
  },
  "language_info": {
   "codemirror_mode": {
    "name": "ipython",
    "version": 3
   },
   "file_extension": ".py",
   "mimetype": "text/x-python",
   "name": "python",
   "nbconvert_exporter": "python",
   "pygments_lexer": "ipython3",
   "version": "3.10.4"
  }
 },
 "nbformat": 4,
 "nbformat_minor": 5
}
